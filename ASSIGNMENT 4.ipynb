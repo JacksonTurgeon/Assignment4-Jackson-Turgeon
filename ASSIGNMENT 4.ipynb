{
 "cells": [
  {
   "cell_type": "code",
   "execution_count": 1,
   "metadata": {
    "dotnet_interactive": {
     "language": "pwsh"
    },
    "polyglot_notebook": {
     "kernelName": "pwsh"
    }
   },
   "outputs": [
    {
     "name": "stdout",
     "output_type": "stream",
     "text": [
      "\u001b[31;1mException: \u001b[0mC:\\Program Files\\WindowsPowerShell\\Modules\\Pester\\3.4.0\\Functions\\Describe.ps1:125\u001b[0m\n",
      "\u001b[31;1m\u001b[0m\u001b[36;1mLine |\u001b[0m\n",
      "\u001b[31;1m\u001b[0m\u001b[36;1m\u001b[36;1m 125 | \u001b[0m         \u001b[36;1mthrow \"The $CommandName command may only be used inside a Des\u001b[0m …\u001b[0m\n",
      "\u001b[31;1m\u001b[0m\u001b[36;1m\u001b[36;1m\u001b[0m\u001b[36;1m\u001b[0m\u001b[36;1m     | \u001b[31;1m         ~~~~~~~~~~~~~~~~~~~~~~~~~~~~~~~~~~~~~~~~~~~~~~~~~~~~~~~~~~~~~\u001b[0m\n",
      "\u001b[31;1m\u001b[0m\u001b[36;1m\u001b[36;1m\u001b[0m\u001b[36;1m\u001b[0m\u001b[36;1m\u001b[31;1m\u001b[31;1m\u001b[36;1m     | \u001b[31;1mThe Should command may only be used inside a Describe block.\u001b[0m\n"
     ]
    }
   ],
   "source": [
    "function Calculate-Bill {\n",
    "    param(\n",
    "        [double]$cost,\n",
    "        [double]$tax,\n",
    "        [double]$tip\n",
    "    )\n",
    "\n",
    "    $taxAmount = $cost * ($tax / 100)\n",
    "    $tipAmount = $cost * ($tip / 100)\n",
    "    $totalCost = $cost + $taxAmount + $tipAmount\n",
    "\n",
    "    return @($totalCost, $tipAmount)\n",
    "}\n",
    "\n",
    "# Test code\n",
    "Test-Path function:Calculate-Bill | Should -Be $True\n",
    "Get-Command Calculate-Bill | should -HaveParameter cost\n",
    "Get-Command Calculate-Bill | should -HaveParameter tax\n",
    "Get-Command Calculate-Bill | should -HaveParameter tip\n",
    "(Calculate-Bill -cost 9.99 -tax 15 -tip 18) | should -be @(12.3387, 1.7972)"
   ]
  },
  {
   "cell_type": "code",
   "execution_count": 2,
   "metadata": {
    "dotnet_interactive": {
     "language": "pwsh"
    },
    "polyglot_notebook": {
     "kernelName": "pwsh"
    }
   },
   "outputs": [
    {
     "name": "stdout",
     "output_type": "stream",
     "text": [
      "Calculate-Bill function exists.\n",
      "Calculate-Bill function has required parameters.\n",
      "Calculate-Bill function does not produce the expected result.\n"
     ]
    }
   ],
   "source": []
  },
  {
   "cell_type": "code",
   "execution_count": 3,
   "metadata": {
    "dotnet_interactive": {
     "language": "pwsh"
    },
    "polyglot_notebook": {
     "kernelName": "pwsh"
    }
   },
   "outputs": [
    {
     "name": "stdout",
     "output_type": "stream",
     "text": [
      "13.2867\n",
      "1.7982\n"
     ]
    }
   ],
   "source": [
    "function Calculate-Bill {\n",
    "    param(\n",
    "        [double]$cost,\n",
    "        [double]$tax,\n",
    "        [double]$tip\n",
    "    )\n",
    "\n",
    "    $taxAmount = $cost * ($tax / 100)\n",
    "    $tipAmount = $cost * ($tip / 100)\n",
    "\n",
    "    $totalCost = $cost + $taxAmount\n",
    "    $totalWithTip = $totalCost + $tipAmount\n",
    "\n",
    "    return @($totalWithTip, $tipAmount)\n",
    "}\n",
    "\n",
    "# Call the function for the specific scenario\n",
    "$result = Calculate-Bill -cost 9.99 -tax 15 -tip 18\n",
    "\n",
    "# Display the result\n",
    "Write-Output $result\n"
   ]
  },
  {
   "cell_type": "code",
   "execution_count": 4,
   "metadata": {
    "dotnet_interactive": {
     "language": "pwsh"
    },
    "polyglot_notebook": {
     "kernelName": "pwsh"
    }
   },
   "outputs": [
    {
     "name": "stdout",
     "output_type": "stream",
     "text": [
      "13.2867\n",
      "1.7982\n"
     ]
    }
   ],
   "source": [
    "function Calculate-Bill {\n",
    "    param (\n",
    "        [double]$cost,\n",
    "        [double]$tax,\n",
    "        [double]$tip\n",
    "    )\n",
    "\n",
    "    $taxAmount = $cost * ($tax / 100)\n",
    "    $tipAmount = $cost * ($tip / 100)\n",
    "    \n",
    "    $totalCost = $cost + $taxAmount + $tipAmount\n",
    "\n",
    "    return @($totalCost, $tipAmount)\n",
    "}\n",
    "\n",
    "# Test with the given values\n",
    "Calculate-Bill -cost 9.99 -tax 15 -tip 18\n"
   ]
  },
  {
   "cell_type": "code",
   "execution_count": 5,
   "metadata": {
    "dotnet_interactive": {
     "language": "pwsh"
    },
    "polyglot_notebook": {
     "kernelName": "pwsh"
    }
   },
   "outputs": [
    {
     "name": "stdout",
     "output_type": "stream",
     "text": [
      "Total Cost: 13.2867\n",
      "Tip Amount: 1.7982\n"
     ]
    }
   ],
   "source": [
    "function Calculate-BillAndTip {\n",
    "    param (\n",
    "        [double]$cost,\n",
    "        [double]$taxRate,\n",
    "        [double]$tipPercentage\n",
    "    )\n",
    "\n",
    "    $taxAmount = $cost * ($taxRate / 100)\n",
    "    $tipAmount = $cost * ($tipPercentage / 100)\n",
    "    $totalCost = $cost + $taxAmount + $tipAmount\n",
    "\n",
    "    return @($totalCost, $tipAmount)\n",
    "}\n",
    "\n",
    "# Example usage\n",
    "$result = Calculate-BillAndTip -cost 9.99 -taxRate 15 -tipPercentage 18\n",
    "\n",
    "# Display the result\n",
    "$totalCost = $result[0]\n",
    "$tipAmount = $result[1]\n",
    "\n",
    "Write-Host \"Total Cost: $totalCost\"\n",
    "Write-Host \"Tip Amount: $tipAmount\"\n"
   ]
  },
  {
   "cell_type": "code",
   "execution_count": 6,
   "metadata": {
    "dotnet_interactive": {
     "language": "pwsh"
    },
    "polyglot_notebook": {
     "kernelName": "pwsh"
    }
   },
   "outputs": [
    {
     "name": "stdout",
     "output_type": "stream",
     "text": [
      "\u001b[31;1mGet-RandomLetter: \u001b[0m\n",
      "\u001b[31;1m\u001b[36;1mLine |\u001b[0m\n",
      "\u001b[31;1m\u001b[36;1m\u001b[36;1m  10 | \u001b[0m         $randomLetter = \u001b[36;1mGet-RandomLetter\u001b[0m -Alphabet $ALPHABET\u001b[0m\n",
      "\u001b[31;1m\u001b[36;1m\u001b[36;1m\u001b[0m\u001b[36;1m\u001b[0m\u001b[36;1m     | \u001b[31;1m                         ~~~~~~~~~~~~~~~~\u001b[0m\n",
      "\u001b[31;1m\u001b[36;1m\u001b[36;1m\u001b[0m\u001b[36;1m\u001b[0m\u001b[36;1m\u001b[31;1m\u001b[31;1m\u001b[36;1m     | \u001b[31;1mThe term 'Get-RandomLetter' is not recognized as a name of a cmdlet, function, script file, or executable program.\u001b[0m\n",
      "\u001b[31;1m\u001b[36;1m\u001b[36;1m\u001b[0m\u001b[36;1m\u001b[0m\u001b[36;1m\u001b[31;1m\u001b[31;1m\u001b[36;1m\u001b[31;1mCheck the spelling of the name, or if a path was included, verify that the path is correct and try again.\u001b[0m\n",
      "\u001b[31;1mGet-RandomLetter: \u001b[0m\n",
      "\u001b[31;1m\u001b[36;1mLine |\u001b[0m\n",
      "\u001b[31;1m\u001b[36;1m\u001b[36;1m  10 | \u001b[0m         $randomLetter = \u001b[36;1mGet-RandomLetter\u001b[0m -Alphabet $ALPHABET\u001b[0m\n",
      "\u001b[31;1m\u001b[36;1m\u001b[36;1m\u001b[0m\u001b[36;1m\u001b[0m\u001b[36;1m     | \u001b[31;1m                         ~~~~~~~~~~~~~~~~\u001b[0m\n",
      "\u001b[31;1m\u001b[36;1m\u001b[36;1m\u001b[0m\u001b[36;1m\u001b[0m\u001b[36;1m\u001b[31;1m\u001b[31;1m\u001b[36;1m     | \u001b[31;1mThe term 'Get-RandomLetter' is not recognized as a name of a cmdlet, function, script file, or executable program.\u001b[0m\n",
      "\u001b[31;1m\u001b[36;1m\u001b[36;1m\u001b[0m\u001b[36;1m\u001b[0m\u001b[36;1m\u001b[31;1m\u001b[31;1m\u001b[36;1m\u001b[31;1mCheck the spelling of the name, or if a path was included, verify that the path is correct and try again.\u001b[0m\n",
      "\u001b[31;1mGet-RandomLetter: \u001b[0m\n",
      "\u001b[31;1m\u001b[36;1mLine |\u001b[0m\n",
      "\u001b[31;1m\u001b[36;1m\u001b[36;1m  10 | \u001b[0m         $randomLetter = \u001b[36;1mGet-RandomLetter\u001b[0m -Alphabet $ALPHABET\u001b[0m\n",
      "\u001b[31;1m\u001b[36;1m\u001b[36;1m\u001b[0m\u001b[36;1m\u001b[0m\u001b[36;1m     | \u001b[31;1m                         ~~~~~~~~~~~~~~~~\u001b[0m\n",
      "\u001b[31;1m\u001b[36;1m\u001b[36;1m\u001b[0m\u001b[36;1m\u001b[0m\u001b[36;1m\u001b[31;1m\u001b[31;1m\u001b[36;1m     | \u001b[31;1mThe term 'Get-RandomLetter' is not recognized as a name of a cmdlet, function, script file, or executable program.\u001b[0m\n",
      "\u001b[31;1m\u001b[36;1m\u001b[36;1m\u001b[0m\u001b[36;1m\u001b[0m\u001b[36;1m\u001b[31;1m\u001b[31;1m\u001b[36;1m\u001b[31;1mCheck the spelling of the name, or if a path was included, verify that the path is correct and try again.\u001b[0m\n",
      "\u001b[31;1mGet-RandomLetter: \u001b[0m\n",
      "\u001b[31;1m\u001b[36;1mLine |\u001b[0m\n",
      "\u001b[31;1m\u001b[36;1m\u001b[36;1m  10 | \u001b[0m         $randomLetter = \u001b[36;1mGet-RandomLetter\u001b[0m -Alphabet $ALPHABET\u001b[0m\n",
      "\u001b[31;1m\u001b[36;1m\u001b[36;1m\u001b[0m\u001b[36;1m\u001b[0m\u001b[36;1m     | \u001b[31;1m                         ~~~~~~~~~~~~~~~~\u001b[0m\n",
      "\u001b[31;1m\u001b[36;1m\u001b[36;1m\u001b[0m\u001b[36;1m\u001b[0m\u001b[36;1m\u001b[31;1m\u001b[31;1m\u001b[36;1m     | \u001b[31;1mThe term 'Get-RandomLetter' is not recognized as a name of a cmdlet, function, script file, or executable program.\u001b[0m\n",
      "\u001b[31;1m\u001b[36;1m\u001b[36;1m\u001b[0m\u001b[36;1m\u001b[0m\u001b[36;1m\u001b[31;1m\u001b[31;1m\u001b[36;1m\u001b[31;1mCheck the spelling of the name, or if a path was included, verify that the path is correct and try again.\u001b[0m\n",
      "\u001b[31;1mGet-RandomLetter: \u001b[0m\n",
      "\u001b[31;1m\u001b[36;1mLine |\u001b[0m\n",
      "\u001b[31;1m\u001b[36;1m\u001b[36;1m  10 | \u001b[0m         $randomLetter = \u001b[36;1mGet-RandomLetter\u001b[0m -Alphabet $ALPHABET\u001b[0m\n",
      "\u001b[31;1m\u001b[36;1m\u001b[36;1m\u001b[0m\u001b[36;1m\u001b[0m\u001b[36;1m     | \u001b[31;1m                         ~~~~~~~~~~~~~~~~\u001b[0m\n",
      "\u001b[31;1m\u001b[36;1m\u001b[36;1m\u001b[0m\u001b[36;1m\u001b[0m\u001b[36;1m\u001b[31;1m\u001b[31;1m\u001b[36;1m     | \u001b[31;1mThe term 'Get-RandomLetter' is not recognized as a name of a cmdlet, function, script file, or executable program.\u001b[0m\n",
      "\u001b[31;1m\u001b[36;1m\u001b[36;1m\u001b[0m\u001b[36;1m\u001b[0m\u001b[36;1m\u001b[31;1m\u001b[31;1m\u001b[36;1m\u001b[31;1mCheck the spelling of the name, or if a path was included, verify that the path is correct and try again.\u001b[0m\n",
      "\u001b[31;1mGet-RandomLetter: \u001b[0m\n",
      "\u001b[31;1m\u001b[36;1mLine |\u001b[0m\n",
      "\u001b[31;1m\u001b[36;1m\u001b[36;1m  10 | \u001b[0m         $randomLetter = \u001b[36;1mGet-RandomLetter\u001b[0m -Alphabet $ALPHABET\u001b[0m\n",
      "\u001b[31;1m\u001b[36;1m\u001b[36;1m\u001b[0m\u001b[36;1m\u001b[0m\u001b[36;1m     | \u001b[31;1m                         ~~~~~~~~~~~~~~~~\u001b[0m\n",
      "\u001b[31;1m\u001b[36;1m\u001b[36;1m\u001b[0m\u001b[36;1m\u001b[0m\u001b[36;1m\u001b[31;1m\u001b[31;1m\u001b[36;1m     | \u001b[31;1mThe term 'Get-RandomLetter' is not recognized as a name of a cmdlet, function, script file, or executable program.\u001b[0m\n",
      "\u001b[31;1m\u001b[36;1m\u001b[36;1m\u001b[0m\u001b[36;1m\u001b[0m\u001b[36;1m\u001b[31;1m\u001b[31;1m\u001b[36;1m\u001b[31;1mCheck the spelling of the name, or if a path was included, verify that the path is correct and try again.\u001b[0m\n",
      "\u001b[31;1mGet-RandomLetter: \u001b[0m\n",
      "\u001b[31;1m\u001b[36;1mLine |\u001b[0m\n",
      "\u001b[31;1m\u001b[36;1m\u001b[36;1m  10 | \u001b[0m         $randomLetter = \u001b[36;1mGet-RandomLetter\u001b[0m -Alphabet $ALPHABET\u001b[0m\n",
      "\u001b[31;1m\u001b[36;1m\u001b[36;1m\u001b[0m\u001b[36;1m\u001b[0m\u001b[36;1m     | \u001b[31;1m                         ~~~~~~~~~~~~~~~~\u001b[0m\n",
      "\u001b[31;1m\u001b[36;1m\u001b[36;1m\u001b[0m\u001b[36;1m\u001b[0m\u001b[36;1m\u001b[31;1m\u001b[31;1m\u001b[36;1m     | \u001b[31;1mThe term 'Get-RandomLetter' is not recognized as a name of a cmdlet, function, script file, or executable program.\u001b[0m\n",
      "\u001b[31;1m\u001b[36;1m\u001b[36;1m\u001b[0m\u001b[36;1m\u001b[0m\u001b[36;1m\u001b[31;1m\u001b[31;1m\u001b[36;1m\u001b[31;1mCheck the spelling of the name, or if a path was included, verify that the path is correct and try again.\u001b[0m\n",
      "\u001b[31;1mGet-RandomLetter: \u001b[0m\n",
      "\u001b[31;1m\u001b[36;1mLine |\u001b[0m\n",
      "\u001b[31;1m\u001b[36;1m\u001b[36;1m  10 | \u001b[0m         $randomLetter = \u001b[36;1mGet-RandomLetter\u001b[0m -Alphabet $ALPHABET\u001b[0m\n",
      "\u001b[31;1m\u001b[36;1m\u001b[36;1m\u001b[0m\u001b[36;1m\u001b[0m\u001b[36;1m     | \u001b[31;1m                         ~~~~~~~~~~~~~~~~\u001b[0m\n",
      "\u001b[31;1m\u001b[36;1m\u001b[36;1m\u001b[0m\u001b[36;1m\u001b[0m\u001b[36;1m\u001b[31;1m\u001b[31;1m\u001b[36;1m     | \u001b[31;1mThe term 'Get-RandomLetter' is not recognized as a name of a cmdlet, function, script file, or executable program.\u001b[0m\n",
      "\u001b[31;1m\u001b[36;1m\u001b[36;1m\u001b[0m\u001b[36;1m\u001b[0m\u001b[36;1m\u001b[31;1m\u001b[31;1m\u001b[36;1m\u001b[31;1mCheck the spelling of the name, or if a path was included, verify that the path is correct and try again.\u001b[0m\n",
      "Password (Length 8): \n",
      "\u001b[31;1mGet-RandomLetter: \u001b[0m\n",
      "\u001b[31;1m\u001b[36;1mLine |\u001b[0m\n",
      "\u001b[31;1m\u001b[36;1m\u001b[36;1m  10 | \u001b[0m         $randomLetter = \u001b[36;1mGet-RandomLetter\u001b[0m -Alphabet $ALPHABET\u001b[0m\n",
      "\u001b[31;1m\u001b[36;1m\u001b[36;1m\u001b[0m\u001b[36;1m\u001b[0m\u001b[36;1m     | \u001b[31;1m                         ~~~~~~~~~~~~~~~~\u001b[0m\n",
      "\u001b[31;1m\u001b[36;1m\u001b[36;1m\u001b[0m\u001b[36;1m\u001b[0m\u001b[36;1m\u001b[31;1m\u001b[31;1m\u001b[36;1m     | \u001b[31;1mThe term 'Get-RandomLetter' is not recognized as a name of a cmdlet, function, script file, or executable program.\u001b[0m\n",
      "\u001b[31;1m\u001b[36;1m\u001b[36;1m\u001b[0m\u001b[36;1m\u001b[0m\u001b[36;1m\u001b[31;1m\u001b[31;1m\u001b[36;1m\u001b[31;1mCheck the spelling of the name, or if a path was included, verify that the path is correct and try again.\u001b[0m\n",
      "\u001b[31;1mGet-RandomLetter: \u001b[0m\n",
      "\u001b[31;1m\u001b[36;1mLine |\u001b[0m\n",
      "\u001b[31;1m\u001b[36;1m\u001b[36;1m  10 | \u001b[0m         $randomLetter = \u001b[36;1mGet-RandomLetter\u001b[0m -Alphabet $ALPHABET\u001b[0m\n",
      "\u001b[31;1m\u001b[36;1m\u001b[36;1m\u001b[0m\u001b[36;1m\u001b[0m\u001b[36;1m     | \u001b[31;1m                         ~~~~~~~~~~~~~~~~\u001b[0m\n",
      "\u001b[31;1m\u001b[36;1m\u001b[36;1m\u001b[0m\u001b[36;1m\u001b[0m\u001b[36;1m\u001b[31;1m\u001b[31;1m\u001b[36;1m     | \u001b[31;1mThe term 'Get-RandomLetter' is not recognized as a name of a cmdlet, function, script file, or executable program.\u001b[0m\n",
      "\u001b[31;1m\u001b[36;1m\u001b[36;1m\u001b[0m\u001b[36;1m\u001b[0m\u001b[36;1m\u001b[31;1m\u001b[31;1m\u001b[36;1m\u001b[31;1mCheck the spelling of the name, or if a path was included, verify that the path is correct and try again.\u001b[0m\n",
      "\u001b[31;1mGet-RandomLetter: \u001b[0m\n",
      "\u001b[31;1m\u001b[36;1mLine |\u001b[0m\n",
      "\u001b[31;1m\u001b[36;1m\u001b[36;1m  10 | \u001b[0m         $randomLetter = \u001b[36;1mGet-RandomLetter\u001b[0m -Alphabet $ALPHABET\u001b[0m\n",
      "\u001b[31;1m\u001b[36;1m\u001b[36;1m\u001b[0m\u001b[36;1m\u001b[0m\u001b[36;1m     | \u001b[31;1m                         ~~~~~~~~~~~~~~~~\u001b[0m\n",
      "\u001b[31;1m\u001b[36;1m\u001b[36;1m\u001b[0m\u001b[36;1m\u001b[0m\u001b[36;1m\u001b[31;1m\u001b[31;1m\u001b[36;1m     | \u001b[31;1mThe term 'Get-RandomLetter' is not recognized as a name of a cmdlet, function, script file, or executable program.\u001b[0m\n",
      "\u001b[31;1m\u001b[36;1m\u001b[36;1m\u001b[0m\u001b[36;1m\u001b[0m\u001b[36;1m\u001b[31;1m\u001b[31;1m\u001b[36;1m\u001b[31;1mCheck the spelling of the name, or if a path was included, verify that the path is correct and try again.\u001b[0m\n",
      "\u001b[31;1mGet-RandomLetter: \u001b[0m\n",
      "\u001b[31;1m\u001b[36;1mLine |\u001b[0m\n",
      "\u001b[31;1m\u001b[36;1m\u001b[36;1m  10 | \u001b[0m         $randomLetter = \u001b[36;1mGet-RandomLetter\u001b[0m -Alphabet $ALPHABET\u001b[0m\n",
      "\u001b[31;1m\u001b[36;1m\u001b[36;1m\u001b[0m\u001b[36;1m\u001b[0m\u001b[36;1m     | \u001b[31;1m                         ~~~~~~~~~~~~~~~~\u001b[0m\n",
      "\u001b[31;1m\u001b[36;1m\u001b[36;1m\u001b[0m\u001b[36;1m\u001b[0m\u001b[36;1m\u001b[31;1m\u001b[31;1m\u001b[36;1m     | \u001b[31;1mThe term 'Get-RandomLetter' is not recognized as a name of a cmdlet, function, script file, or executable program.\u001b[0m\n",
      "\u001b[31;1m\u001b[36;1m\u001b[36;1m\u001b[0m\u001b[36;1m\u001b[0m\u001b[36;1m\u001b[31;1m\u001b[31;1m\u001b[36;1m\u001b[31;1mCheck the spelling of the name, or if a path was included, verify that the path is correct and try again.\u001b[0m\n",
      "\u001b[31;1mGet-RandomLetter: \u001b[0m\n",
      "\u001b[31;1m\u001b[36;1mLine |\u001b[0m\n",
      "\u001b[31;1m\u001b[36;1m\u001b[36;1m  10 | \u001b[0m         $randomLetter = \u001b[36;1mGet-RandomLetter\u001b[0m -Alphabet $ALPHABET\u001b[0m\n",
      "\u001b[31;1m\u001b[36;1m\u001b[36;1m\u001b[0m\u001b[36;1m\u001b[0m\u001b[36;1m     | \u001b[31;1m                         ~~~~~~~~~~~~~~~~\u001b[0m\n",
      "\u001b[31;1m\u001b[36;1m\u001b[36;1m\u001b[0m\u001b[36;1m\u001b[0m\u001b[36;1m\u001b[31;1m\u001b[31;1m\u001b[36;1m     | \u001b[31;1mThe term 'Get-RandomLetter' is not recognized as a name of a cmdlet, function, script file, or executable program.\u001b[0m\n",
      "\u001b[31;1m\u001b[36;1m\u001b[36;1m\u001b[0m\u001b[36;1m\u001b[0m\u001b[36;1m\u001b[31;1m\u001b[31;1m\u001b[36;1m\u001b[31;1mCheck the spelling of the name, or if a path was included, verify that the path is correct and try again.\u001b[0m\n",
      "\u001b[31;1mGet-RandomLetter: \u001b[0m\n",
      "\u001b[31;1m\u001b[36;1mLine |\u001b[0m\n",
      "\u001b[31;1m\u001b[36;1m\u001b[36;1m  10 | \u001b[0m         $randomLetter = \u001b[36;1mGet-RandomLetter\u001b[0m -Alphabet $ALPHABET\u001b[0m\n",
      "\u001b[31;1m\u001b[36;1m\u001b[36;1m\u001b[0m\u001b[36;1m\u001b[0m\u001b[36;1m     | \u001b[31;1m                         ~~~~~~~~~~~~~~~~\u001b[0m\n",
      "\u001b[31;1m\u001b[36;1m\u001b[36;1m\u001b[0m\u001b[36;1m\u001b[0m\u001b[36;1m\u001b[31;1m\u001b[31;1m\u001b[36;1m     | \u001b[31;1mThe term 'Get-RandomLetter' is not recognized as a name of a cmdlet, function, script file, or executable program.\u001b[0m\n",
      "\u001b[31;1m\u001b[36;1m\u001b[36;1m\u001b[0m\u001b[36;1m\u001b[0m\u001b[36;1m\u001b[31;1m\u001b[31;1m\u001b[36;1m\u001b[31;1mCheck the spelling of the name, or if a path was included, verify that the path is correct and try again.\u001b[0m\n",
      "\u001b[31;1mGet-RandomLetter: \u001b[0m\n",
      "\u001b[31;1m\u001b[36;1mLine |\u001b[0m\n",
      "\u001b[31;1m\u001b[36;1m\u001b[36;1m  10 | \u001b[0m         $randomLetter = \u001b[36;1mGet-RandomLetter\u001b[0m -Alphabet $ALPHABET\u001b[0m\n",
      "\u001b[31;1m\u001b[36;1m\u001b[36;1m\u001b[0m\u001b[36;1m\u001b[0m\u001b[36;1m     | \u001b[31;1m                         ~~~~~~~~~~~~~~~~\u001b[0m\n",
      "\u001b[31;1m\u001b[36;1m\u001b[36;1m\u001b[0m\u001b[36;1m\u001b[0m\u001b[36;1m\u001b[31;1m\u001b[31;1m\u001b[36;1m     | \u001b[31;1mThe term 'Get-RandomLetter' is not recognized as a name of a cmdlet, function, script file, or executable program.\u001b[0m\n",
      "\u001b[31;1m\u001b[36;1m\u001b[36;1m\u001b[0m\u001b[36;1m\u001b[0m\u001b[36;1m\u001b[31;1m\u001b[31;1m\u001b[36;1m\u001b[31;1mCheck the spelling of the name, or if a path was included, verify that the path is correct and try again.\u001b[0m\n",
      "\u001b[31;1mGet-RandomLetter: \u001b[0m\n",
      "\u001b[31;1m\u001b[36;1mLine |\u001b[0m\n",
      "\u001b[31;1m\u001b[36;1m\u001b[36;1m  10 | \u001b[0m         $randomLetter = \u001b[36;1mGet-RandomLetter\u001b[0m -Alphabet $ALPHABET\u001b[0m\n",
      "\u001b[31;1m\u001b[36;1m\u001b[36;1m\u001b[0m\u001b[36;1m\u001b[0m\u001b[36;1m     | \u001b[31;1m                         ~~~~~~~~~~~~~~~~\u001b[0m\n",
      "\u001b[31;1m\u001b[36;1m\u001b[36;1m\u001b[0m\u001b[36;1m\u001b[0m\u001b[36;1m\u001b[31;1m\u001b[31;1m\u001b[36;1m     | \u001b[31;1mThe term 'Get-RandomLetter' is not recognized as a name of a cmdlet, function, script file, or executable program.\u001b[0m\n",
      "\u001b[31;1m\u001b[36;1m\u001b[36;1m\u001b[0m\u001b[36;1m\u001b[0m\u001b[36;1m\u001b[31;1m\u001b[31;1m\u001b[36;1m\u001b[31;1mCheck the spelling of the name, or if a path was included, verify that the path is correct and try again.\u001b[0m\n",
      "\u001b[31;1mGet-RandomLetter: \u001b[0m\n",
      "\u001b[31;1m\u001b[36;1mLine |\u001b[0m\n",
      "\u001b[31;1m\u001b[36;1m\u001b[36;1m  10 | \u001b[0m         $randomLetter = \u001b[36;1mGet-RandomLetter\u001b[0m -Alphabet $ALPHABET\u001b[0m\n",
      "\u001b[31;1m\u001b[36;1m\u001b[36;1m\u001b[0m\u001b[36;1m\u001b[0m\u001b[36;1m     | \u001b[31;1m                         ~~~~~~~~~~~~~~~~\u001b[0m\n",
      "\u001b[31;1m\u001b[36;1m\u001b[36;1m\u001b[0m\u001b[36;1m\u001b[0m\u001b[36;1m\u001b[31;1m\u001b[31;1m\u001b[36;1m     | \u001b[31;1mThe term 'Get-RandomLetter' is not recognized as a name of a cmdlet, function, script file, or executable program.\u001b[0m\n",
      "\u001b[31;1m\u001b[36;1m\u001b[36;1m\u001b[0m\u001b[36;1m\u001b[0m\u001b[36;1m\u001b[31;1m\u001b[31;1m\u001b[36;1m\u001b[31;1mCheck the spelling of the name, or if a path was included, verify that the path is correct and try again.\u001b[0m\n",
      "\u001b[31;1mGet-RandomLetter: \u001b[0m\n",
      "\u001b[31;1m\u001b[36;1mLine |\u001b[0m\n",
      "\u001b[31;1m\u001b[36;1m\u001b[36;1m  10 | \u001b[0m         $randomLetter = \u001b[36;1mGet-RandomLetter\u001b[0m -Alphabet $ALPHABET\u001b[0m\n",
      "\u001b[31;1m\u001b[36;1m\u001b[36;1m\u001b[0m\u001b[36;1m\u001b[0m\u001b[36;1m     | \u001b[31;1m                         ~~~~~~~~~~~~~~~~\u001b[0m\n",
      "\u001b[31;1m\u001b[36;1m\u001b[36;1m\u001b[0m\u001b[36;1m\u001b[0m\u001b[36;1m\u001b[31;1m\u001b[31;1m\u001b[36;1m     | \u001b[31;1mThe term 'Get-RandomLetter' is not recognized as a name of a cmdlet, function, script file, or executable program.\u001b[0m\n",
      "\u001b[31;1m\u001b[36;1m\u001b[36;1m\u001b[0m\u001b[36;1m\u001b[0m\u001b[36;1m\u001b[31;1m\u001b[31;1m\u001b[36;1m\u001b[31;1mCheck the spelling of the name, or if a path was included, verify that the path is correct and try again.\u001b[0m\n",
      "Password (Length 10): \n",
      "\u001b[31;1mGet-RandomLetter: \u001b[0m\n",
      "\u001b[31;1m\u001b[36;1mLine |\u001b[0m\n",
      "\u001b[31;1m\u001b[36;1m\u001b[36;1m  10 | \u001b[0m         $randomLetter = \u001b[36;1mGet-RandomLetter\u001b[0m -Alphabet $ALPHABET\u001b[0m\n",
      "\u001b[31;1m\u001b[36;1m\u001b[36;1m\u001b[0m\u001b[36;1m\u001b[0m\u001b[36;1m     | \u001b[31;1m                         ~~~~~~~~~~~~~~~~\u001b[0m\n",
      "\u001b[31;1m\u001b[36;1m\u001b[36;1m\u001b[0m\u001b[36;1m\u001b[0m\u001b[36;1m\u001b[31;1m\u001b[31;1m\u001b[36;1m     | \u001b[31;1mThe term 'Get-RandomLetter' is not recognized as a name of a cmdlet, function, script file, or executable program.\u001b[0m\n",
      "\u001b[31;1m\u001b[36;1m\u001b[36;1m\u001b[0m\u001b[36;1m\u001b[0m\u001b[36;1m\u001b[31;1m\u001b[31;1m\u001b[36;1m\u001b[31;1mCheck the spelling of the name, or if a path was included, verify that the path is correct and try again.\u001b[0m\n",
      "\u001b[31;1mGet-RandomLetter: \u001b[0m\n",
      "\u001b[31;1m\u001b[36;1mLine |\u001b[0m\n",
      "\u001b[31;1m\u001b[36;1m\u001b[36;1m  10 | \u001b[0m         $randomLetter = \u001b[36;1mGet-RandomLetter\u001b[0m -Alphabet $ALPHABET\u001b[0m\n",
      "\u001b[31;1m\u001b[36;1m\u001b[36;1m\u001b[0m\u001b[36;1m\u001b[0m\u001b[36;1m     | \u001b[31;1m                         ~~~~~~~~~~~~~~~~\u001b[0m\n",
      "\u001b[31;1m\u001b[36;1m\u001b[36;1m\u001b[0m\u001b[36;1m\u001b[0m\u001b[36;1m\u001b[31;1m\u001b[31;1m\u001b[36;1m     | \u001b[31;1mThe term 'Get-RandomLetter' is not recognized as a name of a cmdlet, function, script file, or executable program.\u001b[0m\n",
      "\u001b[31;1m\u001b[36;1m\u001b[36;1m\u001b[0m\u001b[36;1m\u001b[0m\u001b[36;1m\u001b[31;1m\u001b[31;1m\u001b[36;1m\u001b[31;1mCheck the spelling of the name, or if a path was included, verify that the path is correct and try again.\u001b[0m\n",
      "\u001b[31;1mGet-RandomLetter: \u001b[0m\n",
      "\u001b[31;1m\u001b[36;1mLine |\u001b[0m\n",
      "\u001b[31;1m\u001b[36;1m\u001b[36;1m  10 | \u001b[0m         $randomLetter = \u001b[36;1mGet-RandomLetter\u001b[0m -Alphabet $ALPHABET\u001b[0m\n",
      "\u001b[31;1m\u001b[36;1m\u001b[36;1m\u001b[0m\u001b[36;1m\u001b[0m\u001b[36;1m     | \u001b[31;1m                         ~~~~~~~~~~~~~~~~\u001b[0m\n",
      "\u001b[31;1m\u001b[36;1m\u001b[36;1m\u001b[0m\u001b[36;1m\u001b[0m\u001b[36;1m\u001b[31;1m\u001b[31;1m\u001b[36;1m     | \u001b[31;1mThe term 'Get-RandomLetter' is not recognized as a name of a cmdlet, function, script file, or executable program.\u001b[0m\n",
      "\u001b[31;1m\u001b[36;1m\u001b[36;1m\u001b[0m\u001b[36;1m\u001b[0m\u001b[36;1m\u001b[31;1m\u001b[31;1m\u001b[36;1m\u001b[31;1mCheck the spelling of the name, or if a path was included, verify that the path is correct and try again.\u001b[0m\n",
      "\u001b[31;1mGet-RandomLetter: \u001b[0m\n",
      "\u001b[31;1m\u001b[36;1mLine |\u001b[0m\n",
      "\u001b[31;1m\u001b[36;1m\u001b[36;1m  10 | \u001b[0m         $randomLetter = \u001b[36;1mGet-RandomLetter\u001b[0m -Alphabet $ALPHABET\u001b[0m\n",
      "\u001b[31;1m\u001b[36;1m\u001b[36;1m\u001b[0m\u001b[36;1m\u001b[0m\u001b[36;1m     | \u001b[31;1m                         ~~~~~~~~~~~~~~~~\u001b[0m\n",
      "\u001b[31;1m\u001b[36;1m\u001b[36;1m\u001b[0m\u001b[36;1m\u001b[0m\u001b[36;1m\u001b[31;1m\u001b[31;1m\u001b[36;1m     | \u001b[31;1mThe term 'Get-RandomLetter' is not recognized as a name of a cmdlet, function, script file, or executable program.\u001b[0m\n",
      "\u001b[31;1m\u001b[36;1m\u001b[36;1m\u001b[0m\u001b[36;1m\u001b[0m\u001b[36;1m\u001b[31;1m\u001b[31;1m\u001b[36;1m\u001b[31;1mCheck the spelling of the name, or if a path was included, verify that the path is correct and try again.\u001b[0m\n",
      "\u001b[31;1mGet-RandomLetter: \u001b[0m\n",
      "\u001b[31;1m\u001b[36;1mLine |\u001b[0m\n",
      "\u001b[31;1m\u001b[36;1m\u001b[36;1m  10 | \u001b[0m         $randomLetter = \u001b[36;1mGet-RandomLetter\u001b[0m -Alphabet $ALPHABET\u001b[0m\n",
      "\u001b[31;1m\u001b[36;1m\u001b[36;1m\u001b[0m\u001b[36;1m\u001b[0m\u001b[36;1m     | \u001b[31;1m                         ~~~~~~~~~~~~~~~~\u001b[0m\n",
      "\u001b[31;1m\u001b[36;1m\u001b[36;1m\u001b[0m\u001b[36;1m\u001b[0m\u001b[36;1m\u001b[31;1m\u001b[31;1m\u001b[36;1m     | \u001b[31;1mThe term 'Get-RandomLetter' is not recognized as a name of a cmdlet, function, script file, or executable program.\u001b[0m\n",
      "\u001b[31;1m\u001b[36;1m\u001b[36;1m\u001b[0m\u001b[36;1m\u001b[0m\u001b[36;1m\u001b[31;1m\u001b[31;1m\u001b[36;1m\u001b[31;1mCheck the spelling of the name, or if a path was included, verify that the path is correct and try again.\u001b[0m\n",
      "\u001b[31;1mGet-RandomLetter: \u001b[0m\n",
      "\u001b[31;1m\u001b[36;1mLine |\u001b[0m\n",
      "\u001b[31;1m\u001b[36;1m\u001b[36;1m  10 | \u001b[0m         $randomLetter = \u001b[36;1mGet-RandomLetter\u001b[0m -Alphabet $ALPHABET\u001b[0m\n",
      "\u001b[31;1m\u001b[36;1m\u001b[36;1m\u001b[0m\u001b[36;1m\u001b[0m\u001b[36;1m     | \u001b[31;1m                         ~~~~~~~~~~~~~~~~\u001b[0m\n",
      "\u001b[31;1m\u001b[36;1m\u001b[36;1m\u001b[0m\u001b[36;1m\u001b[0m\u001b[36;1m\u001b[31;1m\u001b[31;1m\u001b[36;1m     | \u001b[31;1mThe term 'Get-RandomLetter' is not recognized as a name of a cmdlet, function, script file, or executable program.\u001b[0m\n",
      "\u001b[31;1m\u001b[36;1m\u001b[36;1m\u001b[0m\u001b[36;1m\u001b[0m\u001b[36;1m\u001b[31;1m\u001b[31;1m\u001b[36;1m\u001b[31;1mCheck the spelling of the name, or if a path was included, verify that the path is correct and try again.\u001b[0m\n",
      "\u001b[31;1mGet-RandomLetter: \u001b[0m\n",
      "\u001b[31;1m\u001b[36;1mLine |\u001b[0m\n",
      "\u001b[31;1m\u001b[36;1m\u001b[36;1m  10 | \u001b[0m         $randomLetter = \u001b[36;1mGet-RandomLetter\u001b[0m -Alphabet $ALPHABET\u001b[0m\n",
      "\u001b[31;1m\u001b[36;1m\u001b[36;1m\u001b[0m\u001b[36;1m\u001b[0m\u001b[36;1m     | \u001b[31;1m                         ~~~~~~~~~~~~~~~~\u001b[0m\n",
      "\u001b[31;1m\u001b[36;1m\u001b[36;1m\u001b[0m\u001b[36;1m\u001b[0m\u001b[36;1m\u001b[31;1m\u001b[31;1m\u001b[36;1m     | \u001b[31;1mThe term 'Get-RandomLetter' is not recognized as a name of a cmdlet, function, script file, or executable program.\u001b[0m\n",
      "\u001b[31;1m\u001b[36;1m\u001b[36;1m\u001b[0m\u001b[36;1m\u001b[0m\u001b[36;1m\u001b[31;1m\u001b[31;1m\u001b[36;1m\u001b[31;1mCheck the spelling of the name, or if a path was included, verify that the path is correct and try again.\u001b[0m\n",
      "\u001b[31;1mGet-RandomLetter: \u001b[0m\n",
      "\u001b[31;1m\u001b[36;1mLine |\u001b[0m\n",
      "\u001b[31;1m\u001b[36;1m\u001b[36;1m  10 | \u001b[0m         $randomLetter = \u001b[36;1mGet-RandomLetter\u001b[0m -Alphabet $ALPHABET\u001b[0m\n",
      "\u001b[31;1m\u001b[36;1m\u001b[36;1m\u001b[0m\u001b[36;1m\u001b[0m\u001b[36;1m     | \u001b[31;1m                         ~~~~~~~~~~~~~~~~\u001b[0m\n",
      "\u001b[31;1m\u001b[36;1m\u001b[36;1m\u001b[0m\u001b[36;1m\u001b[0m\u001b[36;1m\u001b[31;1m\u001b[31;1m\u001b[36;1m     | \u001b[31;1mThe term 'Get-RandomLetter' is not recognized as a name of a cmdlet, function, script file, or executable program.\u001b[0m\n",
      "\u001b[31;1m\u001b[36;1m\u001b[36;1m\u001b[0m\u001b[36;1m\u001b[0m\u001b[36;1m\u001b[31;1m\u001b[31;1m\u001b[36;1m\u001b[31;1mCheck the spelling of the name, or if a path was included, verify that the path is correct and try again.\u001b[0m\n",
      "\u001b[31;1mGet-RandomLetter: \u001b[0m\n",
      "\u001b[31;1m\u001b[36;1mLine |\u001b[0m\n",
      "\u001b[31;1m\u001b[36;1m\u001b[36;1m  10 | \u001b[0m         $randomLetter = \u001b[36;1mGet-RandomLetter\u001b[0m -Alphabet $ALPHABET\u001b[0m\n",
      "\u001b[31;1m\u001b[36;1m\u001b[36;1m\u001b[0m\u001b[36;1m\u001b[0m\u001b[36;1m     | \u001b[31;1m                         ~~~~~~~~~~~~~~~~\u001b[0m\n",
      "\u001b[31;1m\u001b[36;1m\u001b[36;1m\u001b[0m\u001b[36;1m\u001b[0m\u001b[36;1m\u001b[31;1m\u001b[31;1m\u001b[36;1m     | \u001b[31;1mThe term 'Get-RandomLetter' is not recognized as a name of a cmdlet, function, script file, or executable program.\u001b[0m\n",
      "\u001b[31;1m\u001b[36;1m\u001b[36;1m\u001b[0m\u001b[36;1m\u001b[0m\u001b[36;1m\u001b[31;1m\u001b[31;1m\u001b[36;1m\u001b[31;1mCheck the spelling of the name, or if a path was included, verify that the path is correct and try again.\u001b[0m\n",
      "\u001b[31;1mGet-RandomLetter: \u001b[0m\n",
      "\u001b[31;1m\u001b[36;1mLine |\u001b[0m\n",
      "\u001b[31;1m\u001b[36;1m\u001b[36;1m  10 | \u001b[0m         $randomLetter = \u001b[36;1mGet-RandomLetter\u001b[0m -Alphabet $ALPHABET\u001b[0m\n",
      "\u001b[31;1m\u001b[36;1m\u001b[36;1m\u001b[0m\u001b[36;1m\u001b[0m\u001b[36;1m     | \u001b[31;1m                         ~~~~~~~~~~~~~~~~\u001b[0m\n",
      "\u001b[31;1m\u001b[36;1m\u001b[36;1m\u001b[0m\u001b[36;1m\u001b[0m\u001b[36;1m\u001b[31;1m\u001b[31;1m\u001b[36;1m     | \u001b[31;1mThe term 'Get-RandomLetter' is not recognized as a name of a cmdlet, function, script file, or executable program.\u001b[0m\n",
      "\u001b[31;1m\u001b[36;1m\u001b[36;1m\u001b[0m\u001b[36;1m\u001b[0m\u001b[36;1m\u001b[31;1m\u001b[31;1m\u001b[36;1m\u001b[31;1mCheck the spelling of the name, or if a path was included, verify that the path is correct and try again.\u001b[0m\n",
      "\u001b[31;1mGet-RandomLetter: \u001b[0m\n",
      "\u001b[31;1m\u001b[36;1mLine |\u001b[0m\n",
      "\u001b[31;1m\u001b[36;1m\u001b[36;1m  10 | \u001b[0m         $randomLetter = \u001b[36;1mGet-RandomLetter\u001b[0m -Alphabet $ALPHABET\u001b[0m\n",
      "\u001b[31;1m\u001b[36;1m\u001b[36;1m\u001b[0m\u001b[36;1m\u001b[0m\u001b[36;1m     | \u001b[31;1m                         ~~~~~~~~~~~~~~~~\u001b[0m\n",
      "\u001b[31;1m\u001b[36;1m\u001b[36;1m\u001b[0m\u001b[36;1m\u001b[0m\u001b[36;1m\u001b[31;1m\u001b[31;1m\u001b[36;1m     | \u001b[31;1mThe term 'Get-RandomLetter' is not recognized as a name of a cmdlet, function, script file, or executable program.\u001b[0m\n",
      "\u001b[31;1m\u001b[36;1m\u001b[36;1m\u001b[0m\u001b[36;1m\u001b[0m\u001b[36;1m\u001b[31;1m\u001b[31;1m\u001b[36;1m\u001b[31;1mCheck the spelling of the name, or if a path was included, verify that the path is correct and try again.\u001b[0m\n",
      "\u001b[31;1mGet-RandomLetter: \u001b[0m\n",
      "\u001b[31;1m\u001b[36;1mLine |\u001b[0m\n",
      "\u001b[31;1m\u001b[36;1m\u001b[36;1m  10 | \u001b[0m         $randomLetter = \u001b[36;1mGet-RandomLetter\u001b[0m -Alphabet $ALPHABET\u001b[0m\n",
      "\u001b[31;1m\u001b[36;1m\u001b[36;1m\u001b[0m\u001b[36;1m\u001b[0m\u001b[36;1m     | \u001b[31;1m                         ~~~~~~~~~~~~~~~~\u001b[0m\n",
      "\u001b[31;1m\u001b[36;1m\u001b[36;1m\u001b[0m\u001b[36;1m\u001b[0m\u001b[36;1m\u001b[31;1m\u001b[31;1m\u001b[36;1m     | \u001b[31;1mThe term 'Get-RandomLetter' is not recognized as a name of a cmdlet, function, script file, or executable program.\u001b[0m\n",
      "\u001b[31;1m\u001b[36;1m\u001b[36;1m\u001b[0m\u001b[36;1m\u001b[0m\u001b[36;1m\u001b[31;1m\u001b[31;1m\u001b[36;1m\u001b[31;1mCheck the spelling of the name, or if a path was included, verify that the path is correct and try again.\u001b[0m\n",
      "Password (Length 12): \n"
     ]
    }
   ],
   "source": [
    "function Get-Password {\n",
    "    param (\n",
    "        [int]$Length\n",
    "    )\n",
    "\n",
    "    $ALPHABET = \"ABCDEFGHIJKLMNOPQRSTUVWXYZ\"\n",
    "    $password = \"\"\n",
    "\n",
    "    for ($i = 1; $i -le $Length; $i++) {\n",
    "        $randomLetter = Get-RandomLetter -Alphabet $ALPHABET\n",
    "        $password += $randomLetter\n",
    "    }\n",
    "\n",
    "    return $password\n",
    "}\n",
    "\n",
    "# Generate passwords with different lengths\n",
    "$lengths = 8, 10, 12\n",
    "\n",
    "foreach ($length in $lengths) {\n",
    "    $password = Get-Password -Length $length\n",
    "    Write-Host \"Password (Length $length): $password\"\n",
    "}\n"
   ]
  },
  {
   "cell_type": "code",
   "execution_count": 7,
   "metadata": {
    "dotnet_interactive": {
     "language": "pwsh"
    },
    "polyglot_notebook": {
     "kernelName": "pwsh"
    }
   },
   "outputs": [
    {
     "name": "stdout",
     "output_type": "stream",
     "text": [
      "Password (Length 8): BJTXVYYY\n",
      "Password (Length 10): JERSBTIUMR\n",
      "Password (Length 12): ZZMEJGLPMAUM\n"
     ]
    }
   ],
   "source": [
    "function Get-RandomLetter {\n",
    "    param (\n",
    "        [string]$Alphabet\n",
    "    )\n",
    "\n",
    "    $randomIndex = Get-Random -Minimum 0 -Maximum $Alphabet.Length\n",
    "    $randomLetter = $Alphabet[$randomIndex]\n",
    "    \n",
    "    return $randomLetter\n",
    "}\n",
    "\n",
    "function Get-Password {\n",
    "    param (\n",
    "        [int]$Length\n",
    "    )\n",
    "\n",
    "    $ALPHABET = \"ABCDEFGHIJKLMNOPQRSTUVWXYZ\"\n",
    "    $password = \"\"\n",
    "\n",
    "    for ($i = 1; $i -le $Length; $i++) {\n",
    "        $randomLetter = Get-RandomLetter -Alphabet $ALPHABET\n",
    "        $password += $randomLetter\n",
    "    }\n",
    "\n",
    "    return $password\n",
    "}\n",
    "\n",
    "# Generate passwords with different lengths\n",
    "$lengths = @(8, 10, 12)\n",
    "\n",
    "foreach ($length in $lengths) {\n",
    "    $password = Get-Password -Length $length\n",
    "    Write-Host \"Password (Length $length): $password\"\n",
    "}\n"
   ]
  },
  {
   "cell_type": "code",
   "execution_count": 8,
   "metadata": {
    "dotnet_interactive": {
     "language": "pwsh"
    },
    "polyglot_notebook": {
     "kernelName": "pwsh"
    }
   },
   "outputs": [
    {
     "name": "stdout",
     "output_type": "stream",
     "text": [
      "\u001b[31;1mParserError: \u001b[0m\n",
      "\u001b[31;1m\u001b[36;1mLine |\u001b[0m\n",
      "\u001b[31;1m\u001b[36;1m\u001b[36;1m   1 | \u001b[0m def convert_currency(cad_amount\u001b[36;1m,\u001b[0m target_currency):\u001b[0m\n",
      "\u001b[31;1m\u001b[36;1m\u001b[36;1m\u001b[0m\u001b[36;1m\u001b[0m\u001b[36;1m     | \u001b[31;1m                                ~\u001b[0m\n",
      "\u001b[31;1m\u001b[36;1m\u001b[36;1m\u001b[0m\u001b[36;1m\u001b[0m\u001b[36;1m\u001b[31;1m\u001b[31;1m\u001b[36;1m     | \u001b[31;1mMissing argument in parameter list.\u001b[0m\n"
     ]
    }
   ],
   "source": [
    "def convert_currency(cad_amount, target_currency):\n",
    "    # Exchange rates as of the knowledge cutoff in 2022\n",
    "    exchange_rates = {'USD': 0.78, 'EUR': 0.69, 'JPY': 86.29}\n",
    "\n",
    "    if target_currency not in exchange_rates:\n",
    "        return \"Unsupported currency\"\n",
    "\n",
    "    converted_amount = cad_amount * exchange_rates[target_currency]\n",
    "    return f\"${cad_amount} CAD is equal to ${converted_amount:.2f} {target_currency}\"\n",
    "\n",
    "# Test the function\n",
    "cad_amount = 1\n",
    "\n",
    "usd_result = convert_currency(cad_amount, 'USD')\n",
    "eur_result = convert_currency(cad_amount, 'EUR')\n",
    "jpy_result = convert_currency(cad_amount, 'JPY')\n",
    "\n",
    "print(usd_result)\n",
    "print(eur_result)\n",
    "print(jpy_result)\n"
   ]
  },
  {
   "cell_type": "code",
   "execution_count": 10,
   "metadata": {
    "dotnet_interactive": {
     "language": "pwsh"
    },
    "polyglot_notebook": {
     "kernelName": "pwsh"
    }
   },
   "outputs": [
    {
     "name": "stdout",
     "output_type": "stream",
     "text": [
      "1 CAD is 0.73 USD\n",
      "1 CAD is 0.67 EUR\n",
      "1 CAD is 109.23 JPY\n"
     ]
    }
   ],
   "source": [
    "function Convert-Currency {\n",
    "    param(\n",
    "        [double]$cadAmount,\n",
    "        [string]$toCurrency\n",
    "    )\n",
    "\n",
    "    $exchangeRates = @{\n",
    "        'USD' = 0.73  \n",
    "        'EUR' = 0.67  \n",
    "        'JPY' = 109.23\n",
    "    }\n",
    "\n",
    "    if ($exchangeRates.ContainsKey($toCurrency)) {\n",
    "        $convertedAmount = $cadAmount * $exchangeRates[$toCurrency]\n",
    "        Write-Output \"$cadAmount CAD is $($convertedAmount) $($toCurrency)\"\n",
    "    } else {\n",
    "        Write-Output \"Unsupported currency: $toCurrency\"\n",
    "    }\n",
    "}\n",
    "\n",
    "# Test the function\n",
    "Convert-Currency -cadAmount 1 -toCurrency 'USD'\n",
    "Convert-Currency -cadAmount 1 -toCurrency 'EUR'\n",
    "Convert-Currency -cadAmount 1 -toCurrency 'JPY'"
   ]
  },
  {
   "cell_type": "code",
   "execution_count": 11,
   "metadata": {
    "dotnet_interactive": {
     "language": "pwsh"
    },
    "polyglot_notebook": {
     "kernelName": "pwsh"
    }
   },
   "outputs": [
    {
     "name": "stdout",
     "output_type": "stream",
     "text": [
      "Loonies: 2\n",
      "Quarters: 3\n",
      "Dimes: 0\n",
      "Nickels: 0\n"
     ]
    }
   ],
   "source": [
    "function Convert-ToChange {\n",
    "    param (\n",
    "        [double]$cadAmount\n",
    "    )\n",
    "\n",
    "    # Round to the nearest nickel\n",
    "    $roundedAmount = [math]::Round($cadAmount / 0.05) * 0.05\n",
    "\n",
    "    # Calculate the number of each coin\n",
    "    $loonies = [math]::Floor($roundedAmount)\n",
    "    $quarters = [math]::Floor(($roundedAmount % 1) / 0.25)\n",
    "    $dimes = [math]::Floor(($roundedAmount % 0.25) / 0.1)\n",
    "    $nickels = [math]::Floor(($roundedAmount % 0.1) / 0.05)\n",
    "\n",
    "    $change = @(\n",
    "        \"Loonies: $loonies\",\n",
    "        \"Quarters: $quarters\",\n",
    "        \"Dimes: $dimes\",\n",
    "        \"Nickels: $nickels\"\n",
    "    )\n",
    "\n",
    "    return $change\n",
    "}\n",
    "\n",
    "# Test the function\n",
    "$change = Convert-ToChange -cadAmount 2.73\n",
    "$change"
   ]
  },
  {
   "cell_type": "code",
   "execution_count": 12,
   "metadata": {
    "dotnet_interactive": {
     "language": "pwsh"
    },
    "polyglot_notebook": {
     "kernelName": "pwsh"
    }
   },
   "outputs": [
    {
     "name": "stdout",
     "output_type": "stream",
     "text": [
      "All Scores Generated: \n",
      "Top 10 Scores: \n"
     ]
    }
   ],
   "source": [
    "# Initialize the top 10 scores array\n",
    "$global:topTenScores = @()\n",
    "\n",
    "# Function to update the top 10 scores array\n",
    "function UpdateTopScores($newScore) {\n",
    "    # Add the new score to the array\n",
    "    $global:topTenScores += $newScore\n",
    "\n",
    "    # Sort the array in descending order\n",
    "    $global:topTenScores = $global:topTenScores | Sort-Object -Descending\n",
    "\n",
    "    # Trim the array to keep only the top 10 scores\n",
    "    $global:topTenScores = $global:topTenScores[0..9]\n",
    "}\n",
    "\n",
    "# Test the function by calling it 15 times with random scores between 1 and 10\n",
    "for ($i = 1; $i -le 15; $i++) {\n",
    "    $randomScore = Get-Random -Minimum 1 -Maximum 11\n",
    "    UpdateTopScores $randomScore\n",
    "}\n",
    "\n",
    "# Display all scores generated\n",
    "Write-Host \"All Scores Generated: $($global:topTenScores -join ', ')\"\n",
    "\n",
    "# Display the resulting top 10 list\n",
    "Write-Host \"Top 10 Scores: $($global:topTenScores -join ', ')\"\n"
   ]
  },
  {
   "cell_type": "code",
   "execution_count": 14,
   "metadata": {
    "dotnet_interactive": {
     "language": "pwsh"
    },
    "polyglot_notebook": {
     "kernelName": "pwsh"
    }
   },
   "outputs": [
    {
     "name": "stdout",
     "output_type": "stream",
     "text": [
      "Score 1 10\n",
      "Score 2 7\n",
      "Score 3 7\n",
      "Score 4 8\n",
      "Score 5 2\n",
      "Score 6 5\n",
      "Score 7 9\n",
      "Score 8 6\n",
      "Score 9 6\n",
      "Score 10 6\n",
      "Score 11 3\n",
      "Score 12 8\n",
      "Score 13 4\n",
      "Score 14 2\n",
      "Score 15 2\n",
      "\n",
      "All Scores:\n",
      "\n",
      "\n",
      "Top 10 List:\n",
      "\n"
     ]
    }
   ],
   "source": [
    "\n",
    "$global:topTenScores = @()\n",
    "\n",
    "function UpdateTopScores($newScore) {\n",
    "    # Add the new score to the array\n",
    "    $global:topTenScores += $newScore\n",
    "\n",
    "    # Sort the array in descending order\n",
    "    $global:topTenScores = [Array]::Sort($global:topTenScores)\n",
    "    $global:topTenScores = $global:topTenScores | Sort-Object -Descending\n",
    "\n",
    "    # Keep only the top 10 scores\n",
    "    if ($global:topTenScores.Count -gt 10) {\n",
    "        $global:topTenScores = $global:topTenScores[0..9]\n",
    "    }\n",
    "}\n",
    "\n",
    "# Test the function by calling it 15 times with random scores\n",
    "for ($i = 1; $i -le 15; $i++) {\n",
    "    $randomScore = Get-Random -Minimum 1 -Maximum 11\n",
    "    UpdateTopScores $randomScore\n",
    "    Write-Host \"Score $i $randomScore\"\n",
    "}\n",
    "\n",
    "# Display all scores generated\n",
    "Write-Host \"`nAll Scores:`n$($global:topTenScores -join ', ')`n\"\n",
    "\n",
    "# Display the resulting top 10 list\n",
    "Write-Host \"Top 10 List:`n$($global:topTenScores -join ', ')\"\n"
   ]
  },
  {
   "cell_type": "code",
   "execution_count": 15,
   "metadata": {
    "dotnet_interactive": {
     "language": "pwsh"
    },
    "polyglot_notebook": {
     "kernelName": "pwsh"
    }
   },
   "outputs": [
    {
     "name": "stdout",
     "output_type": "stream",
     "text": [
      "All scores generated: 7\n",
      "Top 10 Scores: 7\n"
     ]
    }
   ],
   "source": [
    "# Initialize the global array\n",
    "$global:topTenScores = @()\n",
    "\n",
    "# Function to update the top 10 scores\n",
    "function UpdateTopScores($newScore) {\n",
    "    # Add the new score to the array\n",
    "    $topTenScores += $newScore\n",
    "\n",
    "    # Sort the array in descending order\n",
    "    $topTenScores = $topTenScores | Sort-Object -Descending\n",
    "\n",
    "    # Trim the array to keep only the top 10 scores\n",
    "    $global:topTenScores = $topTenScores | Select-Object -First 10\n",
    "}\n",
    "\n",
    "# Test the function with 15 random high scores between 1 and 10\n",
    "for ($i = 1; $i -le 15; $i++) {\n",
    "    $randomScore = Get-Random -Minimum 1 -Maximum 11\n",
    "    UpdateTopScores $randomScore\n",
    "}\n",
    "\n",
    "# Display all generated scores\n",
    "Write-Host \"All scores generated: $($global:topTenScores -join ', ')\"\n",
    "\n",
    "# Display the resulting top 10 list\n",
    "Write-Host \"Top 10 Scores: $($global:topTenScores -join ', ')\"\n"
   ]
  },
  {
   "cell_type": "code",
   "execution_count": 16,
   "metadata": {
    "dotnet_interactive": {
     "language": "pwsh"
    },
    "polyglot_notebook": {
     "kernelName": "pwsh"
    }
   },
   "outputs": [
    {
     "name": "stdout",
     "output_type": "stream",
     "text": [
      "All scores generated:\n",
      "90\n",
      "Top 10 Scores:\n",
      "90\n"
     ]
    }
   ],
   "source": [
    "# Initialize the global array for top 10 scores\n",
    "$global:topTenScores = @()\n",
    "\n",
    "# Function to update the top 10 scores\n",
    "function UpdateTopScores($newScore) {\n",
    "    # Add the new score to the array\n",
    "    $global:topTenScores += $newScore\n",
    "\n",
    "    # Sort the array in descending order\n",
    "    $global:topTenScores = $global:topTenScores | Sort-Object -Descending\n",
    "\n",
    "    # Keep only the top 10 scores\n",
    "    $global:topTenScores = $global:topTenScores | Select-Object -First 10\n",
    "}\n",
    "\n",
    "# Test the function by calling it 15 times with random scores between 1 and 10\n",
    "1..15 | ForEach-Object {\n",
    "    $randomScore = Get-Random -Minimum 1 -Maximum 11\n",
    "    UpdateTopScores $randomScore\n",
    "}\n",
    "\n",
    "# Display all scores generated\n",
    "Write-Host \"All scores generated:\"\n",
    "$global:topTenScores\n",
    "\n",
    "# Display the resulting top 10 list\n",
    "Write-Host \"Top 10 Scores:\"\n",
    "$global:topTenScores"
   ]
  },
  {
   "cell_type": "code",
   "execution_count": 17,
   "metadata": {
    "dotnet_interactive": {
     "language": "pwsh"
    },
    "polyglot_notebook": {
     "kernelName": "pwsh"
    }
   },
   "outputs": [
    {
     "name": "stdout",
     "output_type": "stream",
     "text": [
      "2 3 5 7 11 13 17 19 23 29 31 37 41 43 47\r\n"
     ]
    }
   ],
   "source": [
    "function Test-Prime($number) {\n",
    "    if ($number -le 1) {\n",
    "        return $false\n",
    "    }\n",
    "\n",
    "    for ($i = 2; $i -lt $number; $i++) {\n",
    "        if ($number % $i -eq 0) {\n",
    "            return $false\n",
    "        }\n",
    "    }\n",
    "\n",
    "    return $true\n",
    "}\n",
    "\n",
    "# List prime numbers between 1 and 50\n",
    "$primeNumbers = 1..50 | Where-Object { Test-Prime $_ }\n",
    "$primeNumbers -join ' '\n"
   ]
  },
  {
   "cell_type": "code",
   "execution_count": null,
   "metadata": {
    "dotnet_interactive": {
     "language": "pwsh"
    },
    "polyglot_notebook": {
     "kernelName": "pwsh"
    }
   },
   "outputs": [],
   "source": []
  }
 ],
 "metadata": {
  "kernelspec": {
   "display_name": ".NET (C#)",
   "language": "C#",
   "name": ".net-csharp"
  },
  "language_info": {
   "name": "polyglot-notebook"
  },
  "orig_nbformat": 4,
  "polyglot_notebook": {
   "kernelInfo": {
    "defaultKernelName": "csharp",
    "items": [
     {
      "aliases": [],
      "name": "csharp"
     }
    ]
   }
  }
 },
 "nbformat": 4,
 "nbformat_minor": 2
}
